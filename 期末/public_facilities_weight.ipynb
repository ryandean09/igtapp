{
 "cells": [
  {
   "cell_type": "code",
   "execution_count": 16,
   "metadata": {},
   "outputs": [
    {
     "name": "stdout",
     "output_type": "stream",
     "text": [
      "train_mse= 18192224.142170317\n",
      "test_mse= 15411401.753598796\n",
      "train_r2= 0.9283725871333269\n",
      "test_r2= 0.8513741955439527\n"
     ]
    }
   ],
   "source": [
    "import pandas as pd\n",
    "\n",
    "# 讀取 Excel 檔案\n",
    "file_path = r\".\\公共設施權重.xlsx\"\n",
    "data = pd.read_excel(file_path)\n",
    "\n",
    "# 檢查缺失值\n",
    "missing_values = data.isnull().sum()\n",
    "\n",
    "# 檢查數據類型以進行分類變量的編碼\n",
    "data_types = data.dtypes\n",
    "\n",
    "missing_values, data_types\n",
    "\n",
    "# 選擇特徵和目標變量\n",
    "features = data[\n",
    "    [\n",
    "        \"醫院總數\",\n",
    "        \"學校總數\",\n",
    "        \"電影院總數\",\n",
    "        \"運動設施總數\",\n",
    "        \"捷運站數\",\n",
    "        \"夜市總數\",\n",
    "        \"火車總數\",\n",
    "        \"公園總數\",\n",
    "        \"公車站總數\",\n",
    "    ]\n",
    "]\n",
    "target = data[\"評論\"]\n",
    "\n",
    "# 將數據集拆分為訓練集和測試集\n",
    "from sklearn.model_selection import train_test_split\n",
    "\n",
    "# 將數據拆分為訓練集和測試集\n",
    "X_train, X_test, y_train, y_test = train_test_split(\n",
    "    features, target, test_size=0.2, random_state=42\n",
    ")\n",
    "\n",
    "# 檢查訓練集和測試集的形狀\n",
    "X_train.shape, X_test.shape, y_train.shape, y_test.shape\n",
    "\n",
    "from sklearn.linear_model import LinearRegression\n",
    "from sklearn.metrics import mean_squared_error, r2_score\n",
    "\n",
    "# 初始化模型\n",
    "model = LinearRegression()\n",
    "\n",
    "# 訓練模型\n",
    "model.fit(X_train, y_train)\n",
    "\n",
    "# 對訓練集和測試集進行預測\n",
    "y_train_pred = model.predict(X_train)\n",
    "y_test_pred = model.predict(X_test)\n",
    "\n",
    "# 計算並打印性能指標\n",
    "train_mse = mean_squared_error(y_train, y_train_pred)\n",
    "test_mse = mean_squared_error(y_test, y_test_pred)\n",
    "train_r2 = r2_score(y_train, y_train_pred)\n",
    "test_r2 = r2_score(y_test, y_test_pred)\n",
    "\n",
    "print(\"train_mse=\",train_mse)\n",
    "print(\"test_mse=\",test_mse)\n",
    "# MSE 的值越小越好，表示模型在測試集上的預測表現越好。\n",
    "print(\"train_r2=\",train_r2)\n",
    "print(\"test_r2=\",test_r2)\n",
    "#-squared 的值越接近1越好，表示模型能預測準確。"
   ]
  },
  {
   "cell_type": "code",
   "execution_count": 14,
   "metadata": {},
   "outputs": [
    {
     "name": "stdout",
     "output_type": "stream",
     "text": [
      "模型係數:\n",
      "醫院總數: -841.0117\n",
      "學校總數: 271.3277\n",
      "電影院總數: 2002.2567\n",
      "運動設施總數: 435.8057\n",
      "捷運站數: 974.4097\n",
      "夜市總數: 996.7070\n",
      "火車總數: -270.0184\n",
      "公園總數: -16.6129\n",
      "公車站總數: 15.5534\n",
      "Intercept: -278.4971\n"
     ]
    }
   ],
   "source": [
    "# Show model coefficients\n",
    "coefficients = model.coef_\n",
    "intercept = model.intercept_\n",
    "\n",
    "print(\"模型係數:\")\n",
    "for feature, coef in zip(features.columns, coefficients):\n",
    "    print(f\"{feature}: {coef:.4f}\")\n",
    "\n",
    "print(f\"Intercept: {intercept:.4f}\")"
   ]
  },
  {
   "cell_type": "code",
   "execution_count": 8,
   "metadata": {},
   "outputs": [
    {
     "name": "stdout",
     "output_type": "stream",
     "text": [
      "R2_score (train): 0.9197039384320779\n",
      "R2_score (test): 0.9468091420122076\n",
      "RMSE_score (train): 4334.1669403537135\n",
      "RMSE_score (test): 3252.9543363589796\n"
     ]
    },
    {
     "name": "stderr",
     "output_type": "stream",
     "text": [
      "c:\\Users\\D\\AppData\\Local\\Programs\\Python\\Python312\\Lib\\site-packages\\sklearn\\metrics\\_regression.py:483: FutureWarning: 'squared' is deprecated in version 1.4 and will be removed in 1.6. To calculate the root mean squared error, use the function'root_mean_squared_error'.\n",
      "  warnings.warn(\n",
      "c:\\Users\\D\\AppData\\Local\\Programs\\Python\\Python312\\Lib\\site-packages\\sklearn\\metrics\\_regression.py:483: FutureWarning: 'squared' is deprecated in version 1.4 and will be removed in 1.6. To calculate the root mean squared error, use the function'root_mean_squared_error'.\n",
      "  warnings.warn(\n"
     ]
    }
   ],
   "source": [
    "from sklearn.metrics import mean_squared_error, r2_score\n",
    "\n",
    "# Calculate R2 score and RMSE for train and test sets\n",
    "train_r2 = r2_score(y_train, y_train_pred)\n",
    "test_r2 = r2_score(y_test, y_test_pred)\n",
    "train_rmse = mean_squared_error(y_train, y_train_pred, squared=False)\n",
    "test_rmse = mean_squared_error(y_test, y_test_pred, squared=False)\n",
    "\n",
    "print(f\"R2_score (train): {train_r2}\")\n",
    "print(f\"R2_score (test): {test_r2}\")\n",
    "print(f\"RMSE_score (train): {train_rmse}\")\n",
    "print(f\"RMSE_score (test): {test_rmse}\")\n",
    "\n",
    "# Display summary of OLS regression results\n",
    "import statsmodels.api as sm"
   ]
  },
  {
   "cell_type": "code",
   "execution_count": 9,
   "metadata": {},
   "outputs": [
    {
     "name": "stdout",
     "output_type": "stream",
     "text": [
      "                            OLS Regression Results                            \n",
      "==============================================================================\n",
      "Dep. Variable:                     評論   R-squared:                       0.920\n",
      "Model:                            OLS   Adj. R-squared:                  0.887\n",
      "Method:                 Least Squares   F-statistic:                     28.00\n",
      "Date:                Sun, 25 Feb 2024   Prob (F-statistic):           4.94e-10\n",
      "Time:                        21:58:28   Log-Likelihood:                -313.38\n",
      "No. Observations:                  32   AIC:                             646.8\n",
      "Df Residuals:                      22   BIC:                             661.4\n",
      "Df Model:                           9                                         \n",
      "Covariance Type:            nonrobust                                         \n",
      "==============================================================================\n",
      "                 coef    std err          t      P>|t|      [0.025      0.975]\n",
      "------------------------------------------------------------------------------\n",
      "const       -622.4535   2066.087     -0.301      0.766   -4907.256    3662.349\n",
      "醫院總數        -678.1594    905.848     -0.749      0.462   -2556.773    1200.454\n",
      "學校總數         272.1876    152.622      1.783      0.088     -44.331     588.706\n",
      "電影院總數       2012.9246   1446.130      1.392      0.178    -986.165    5012.014\n",
      "運動設施總數       432.8235    122.197      3.542      0.002     179.403     686.244\n",
      "捷運站數         988.3319    512.037      1.930      0.067     -73.568    2050.232\n",
      "夜市總數         934.9370   1219.257      0.767      0.451   -1593.648    3463.522\n",
      "火車總數        -369.0497    680.174     -0.543      0.593   -1779.645    1041.545\n",
      "公園總數         -18.7919     52.980     -0.355      0.726    -128.665      91.081\n",
      "公車站總數         13.6416     27.935      0.488      0.630     -44.291      71.574\n",
      "==============================================================================\n",
      "Omnibus:                        3.794   Durbin-Watson:                   2.625\n",
      "Prob(Omnibus):                  0.150   Jarque-Bera (JB):                2.348\n",
      "Skew:                           0.478   Prob(JB):                        0.309\n",
      "Kurtosis:                       3.921   Cond. No.                         220.\n",
      "==============================================================================\n",
      "\n",
      "Notes:\n",
      "[1] Standard Errors assume that the covariance matrix of the errors is correctly specified.\n"
     ]
    }
   ],
   "source": [
    "X_train_with_const = sm.add_constant(X_train)\n",
    "ols_model = sm.OLS(y_train, X_train_with_const).fit()\n",
    "print(ols_model.summary())"
   ]
  },
  {
   "cell_type": "code",
   "execution_count": null,
   "metadata": {},
   "outputs": [],
   "source": []
  },
  {
   "cell_type": "code",
   "execution_count": null,
   "metadata": {},
   "outputs": [],
   "source": []
  }
 ],
 "metadata": {
  "kernelspec": {
   "display_name": "Python 3",
   "language": "python",
   "name": "python3"
  },
  "language_info": {
   "codemirror_mode": {
    "name": "ipython",
    "version": 3
   },
   "file_extension": ".py",
   "mimetype": "text/x-python",
   "name": "python",
   "nbconvert_exporter": "python",
   "pygments_lexer": "ipython3",
   "version": "3.12.1"
  }
 },
 "nbformat": 4,
 "nbformat_minor": 2
}
