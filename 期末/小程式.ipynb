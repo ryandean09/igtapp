{
 "cells": [
  {
   "cell_type": "markdown",
   "metadata": {},
   "source": [
    "# RE 被我拿來暫時放"
   ]
  },
  {
   "cell_type": "code",
   "execution_count": null,
   "metadata": {},
   "outputs": [],
   "source": [
    "\"\"\"用來驗證\"\"\"\n",
    "\n",
    "# 假設 X_test 和 y_test 分別是您的測試特徵和實際值\n",
    "# 使用模型進行預測\n",
    "X_test_poly = poly_features.transform(X_test)  # 記得轉換測試數據\n",
    "y_pred = lasso_model.predict(X_test_poly)\n",
    "\n",
    "# 將 y_test 和 y_pred 轉換為一維數組\n",
    "y_test_flat = y_test.flatten()\n",
    "y_pred_flat = y_pred.flatten()\n",
    "\n",
    "\n",
    "# 創建一個 DataFrame 來保存實際值和預測值\n",
    "results_df = pd.DataFrame({\"測試值\": y_test_flat, \"預計\": y_pred_flat})\n",
    "\n",
    "\n",
    "# 使用 Pandas 將 DataFrame 導出到 Excel\n",
    "with pd.ExcelWriter(\"model_results.xlsx\") as writer:\n",
    "    results_df.to_excel(writer, sheet_name=\"Predictions\", index=False)\n",
    "\n",
    "    coef_df.to_excel(writer, sheet_name=\"Coefficients\", index=False)\n",
    "\n",
    "    results_y_train = pd.DataFrame(y_train, columns=[\"drink_counts\"])\n",
    "\n",
    "    results_y_test = pd.DataFrame(y_test, columns=[\"drink_counts\"])\n",
    "\n",
    "    # # 創建包含訓練集和測試集的 DataFrame\n",
    "    # train_df = pd.concat([X_train, results_y_train], axis=1)\n",
    "    # test_df = pd.concat([X_test, results_y_test], axis=1)\n",
    "\n",
    "    # 將X存入 Excel\n",
    "    X_train.to_excel(writer, sheet_name=\"訓練集X\", index=False)\n",
    "\n",
    "    X_test.to_excel(writer, sheet_name=\"測試集X\", index=False)\n",
    "\n",
    "    # 將y存入 Excel\n",
    "    results_y_train.to_excel(writer, sheet_name=\"訓練集y\", index=False)\n",
    "\n",
    "    results_y_test.to_excel(writer, sheet_name=\"測試集y\", index=False)\n",
    "\n",
    "\n",
    "# 使用 os 模組打開 Excel 檔案\n",
    "os.system(\"start model_results.xlsx\")"
   ]
  },
  {
   "cell_type": "code",
   "execution_count": null,
   "metadata": {},
   "outputs": [],
   "source": []
  },
  {
   "cell_type": "markdown",
   "metadata": {},
   "source": [
    "## Polynomial regression"
   ]
  },
  {
   "cell_type": "code",
   "execution_count": null,
   "metadata": {},
   "outputs": [],
   "source": [
    "from sklearn.preprocessing import (\n",
    "    PolynomialFeatures,\n",
    ")  # 從sklearn的preprocessing模組中導入PolynomialFeatures類，用於生成一個新的特徵矩陣，其中包含所有多項式組合的特徵，其次數小於或等於指定的度數。\n",
    "\n",
    "polynomial_reg = PolynomialFeatures(\n",
    "    degree=3\n",
    ")  # 創建一個PolynomialFeatures的實例poly_reg，指定多項式的度數為3。\n",
    "\n",
    "X_polynomial = polynomial_reg.fit_transform(\n",
    "    X_train\n",
    ")  # 對訓練數據X_train進行變換，生成多項式特徵。\n",
    "\n",
    "regressor_polynomial = (\n",
    "    LinearRegression()\n",
    ")  # 創建一個線性回歸(Linear Regression)模型的實例。\n",
    "\n",
    "regressor_polynomial.fit(\n",
    "    X_polynomial, y_train\n",
    ")  # 使用包含多項式特徵的X_poly和訓練集的目標值y_train來訓練線性回歸模型。\n",
    "\n",
    "y_pred_polynomial_train = regressor_polynomial.predict(\n",
    "    polynomial_reg.fit_transform(X_train)\n",
    ")  # 對訓練集進行預測。\n",
    "\n",
    "r2_score_polynomial_train = r2_score(\n",
    "    y_train, y_pred_polynomial_train\n",
    ")  # 計算訓練集的R^2分數。\n",
    "\n",
    "y_pred_polynomial_test = regressor_polynomial.predict(\n",
    "    polynomial_reg.fit_transform(X_test)\n",
    ")  # 對測試集進行預測。\n",
    "\n",
    "r2_score_polynomial_test = r2_score(\n",
    "    y_test, y_pred_polynomial_test\n",
    ")  # 計算測試集的R^2分數。\n",
    "\n",
    "rmse_polynomial_train = np.sqrt(\n",
    "    mean_squared_error(y_train, y_pred_polynomial_train)\n",
    ")  # 計算訓練集的均方根誤差(RMSE)。\n",
    "\n",
    "rmse_polynomial_test = np.sqrt(\n",
    "    mean_squared_error(y_test, y_pred_polynomial_test)\n",
    ")  # 計算測試集的均方根誤差(RMSE)。\n",
    "print(\"polynomial_R2_score (train): \", r2_score_polynomial_train)\n",
    "print(\"polynomial_R2_score (test): \", r2_score_polynomial_test)\n",
    "print(\"polynomial_RMSE: \", rmse_polynomial_train)\n",
    "print(\"polynomial_RMSE: \", rmse_polynomial_test)"
   ]
  },
  {
   "cell_type": "markdown",
   "metadata": {},
   "source": [
    "# 隨機森林"
   ]
  },
  {
   "cell_type": "code",
   "execution_count": null,
   "metadata": {},
   "outputs": [],
   "source": [
    "'''目前執行會有錯，因專案進度需求先擱置，有空再處理'''\n",
    "\n",
    "# import pandas as pd\n",
    "\n",
    "# # 獲取特徵重要性\n",
    "# feature_importances = regressor_rf.feature_importances_\n",
    "\n",
    "# # 假設 X_train 是一個 DataFrame，這樣我們可以直接獲取特徵名稱\n",
    "# feature_names = X_train.columns\n",
    "# feature_names\n",
    "# # 創建一個 DataFrame 來顯示每個特徵及其相應的重要性\n",
    "# feature_importance_df = pd.DataFrame(\n",
    "#     {\"特徵\": feature_names, \"重要性\": feature_importances}\n",
    "# ).sort_values(\n",
    "#     by=\"重要性\", ascending=False\n",
    "# )  # 按重要性降序排列\n",
    "\n",
    "# # 打印特徵重要性\n",
    "# print(feature_importance_df)"
   ]
  }
 ],
 "metadata": {
  "language_info": {
   "name": "python"
  }
 },
 "nbformat": 4,
 "nbformat_minor": 2
}
